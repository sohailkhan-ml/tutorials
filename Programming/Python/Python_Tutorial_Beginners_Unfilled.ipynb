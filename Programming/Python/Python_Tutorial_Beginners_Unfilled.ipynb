{
 "cells": [
  {
   "cell_type": "markdown",
   "id": "3d0ec714",
   "metadata": {},
   "source": [
    "# Table of Contents"
   ]
  },
  {
   "cell_type": "markdown",
   "id": "83d0d614",
   "metadata": {},
   "source": [
    "1. [Introduction](#introduction)\n",
    "2. [Operators](#operators)\n",
    "3. [Numbers](#numbers)\n",
    "4. [Strings](#strings)\n",
    "5. [Collections](#collections)\n",
    "6. [Decision Making](#decisionmaking)\n",
    "7. [Loops](#loops)\n",
    "8. [Functions](#functions)\n",
    "9. [Exceptions](#exceptions)\n",
    "10.[The End](#theend)"
   ]
  },
  {
   "cell_type": "markdown",
   "id": "eaf92366",
   "metadata": {},
   "source": [
    "# 1 - Introduction <a name=\"introduction\"></a>"
   ]
  },
  {
   "cell_type": "markdown",
   "id": "47808133",
   "metadata": {},
   "source": [
    "## Welcome"
   ]
  },
  {
   "cell_type": "markdown",
   "id": "e0c3a1e9",
   "metadata": {},
   "source": [
    "Hello and welcome to this Python tutorial!\n",
    "\n",
    "Python is a very beginner friendly language, and this tutorial assumes no prior knowledge of programming. After this course, you will have a good foundational knowledge of Python and you'll be able to explore the many different libraries that are made available for Python.\n",
    "\n",
    "Python is an essential language in many fields, particularly in the fields of Data Science or Machine Learning. This is because the community has written a lot of code in the form of Python packages, to make analysing data, visualisation, or building a neural network, all much easier! Python is also extremely useful in other fields of software or web development."
   ]
  },
  {
   "cell_type": "markdown",
   "id": "5727946e",
   "metadata": {},
   "source": [
    "Python is a **high-level**, **interpreted** and **interactive** scripting language that is designed to be readable, due to its frequent use of English keywords, when compared to other languages that make greater use of punctuation.\n",
    "\n",
    "- High-level: Python code is highly abstracted away from the assembly / machine code (think 0s and 1s) that is ultimately read by your computer's central processing unit (CPU). This makes it much easier for us to write and understand code.\n",
    "\n",
    "- Interpreted: Python is processed at runtime by the interpreter, and does not need to be compiled prior to execution, as opposed to languages like Java and C++ where compilation is necessary.\n",
    "\n",
    "- Interactive: Python code can be run in an interactive way, much like in this Jupyter notebook."
   ]
  },
  {
   "cell_type": "markdown",
   "id": "b1dbcf1d",
   "metadata": {},
   "source": [
    "## Basic Syntax\n",
    "- Printing\n",
    "- Variable Assignment\n",
    "- Comments\n",
    "- Modules"
   ]
  },
  {
   "cell_type": "markdown",
   "id": "e2408bf3",
   "metadata": {},
   "source": [
    "To begin, two particularly important aspects of Python are **printing** and **variable assignment**.\n",
    "\n",
    "> Printing something to the console is easy, through the print() function. For example: print(1). \n",
    "\n",
    "We can print various data types including: integers, floats, and strings, which we will see later on. For now, let's try to print the integer: 5."
   ]
  },
  {
   "cell_type": "code",
   "execution_count": null,
   "id": "82bc8078",
   "metadata": {},
   "outputs": [],
   "source": []
  },
  {
   "cell_type": "markdown",
   "id": "e6b8d6c8",
   "metadata": {},
   "source": [
    "Now, what if we don't want to directly print a number we just thought up, but refer to a number that we had stored elsewhere? We can store **objects** of any kind in Python by assigning them to a **variable**. This is done via the **assignment operator**: =."
   ]
  },
  {
   "cell_type": "markdown",
   "id": "c68dcb74",
   "metadata": {},
   "source": [
    "Let's assign some numbers to different variables and print them. Let's assign 5 and 10 to 'a' and 'b' respectively, before printing them."
   ]
  },
  {
   "cell_type": "code",
   "execution_count": null,
   "id": "21d4fbd7",
   "metadata": {},
   "outputs": [],
   "source": []
  },
  {
   "cell_type": "markdown",
   "id": "1ee00bfb",
   "metadata": {},
   "source": [
    "Note that the above assignment of a and b, may also be done the following way. However, the more explicit method of assigning one object per line will be preferred going forwards."
   ]
  },
  {
   "cell_type": "code",
   "execution_count": null,
   "id": "ca5b8ef8",
   "metadata": {},
   "outputs": [],
   "source": []
  },
  {
   "cell_type": "markdown",
   "id": "acb196dd",
   "metadata": {},
   "source": [
    "Sometimes, we want to update the value of a variable using the variable itself. That is perfectly valid in Python. However, many mathematicians reading this tutorial may see the statement below (a = a + 3) and be horrified! Once, again, the '=' operator in Python is used for the assignment of variables."
   ]
  },
  {
   "cell_type": "code",
   "execution_count": null,
   "id": "12e71a58",
   "metadata": {},
   "outputs": [],
   "source": []
  },
  {
   "cell_type": "markdown",
   "id": "22cb4ffe",
   "metadata": {},
   "source": [
    "Sometimes we want to make a note or add commentary to our code and this is highly encouraged. This helps other developers understand our code, and also helps us remember what we did previously!\n",
    "\n",
    "Remember that a lot of people can write code that computers understand. Good programmers also write code that humans can understand!\n",
    "\n",
    "Now our comments do not need to reflect the works of Shakespeare. Not every individual line needs to be commented, especially for sections of code that are doing something obvious (like in the example below). Here, you may use your judgement on what constitutes good commentary. Comments can be written following the '#' character, and are ignored by the interpreter."
   ]
  },
  {
   "cell_type": "code",
   "execution_count": null,
   "id": "86e06424",
   "metadata": {},
   "outputs": [],
   "source": []
  },
  {
   "cell_type": "markdown",
   "id": "929b5051",
   "metadata": {},
   "source": [
    "Now that we have executed some code which has stored the values 5 and 10 in a and b respectively, these are now available to us until they are deleted. We may refer to these again whenever we need to."
   ]
  },
  {
   "cell_type": "code",
   "execution_count": null,
   "id": "b7c5f354",
   "metadata": {},
   "outputs": [],
   "source": []
  },
  {
   "cell_type": "markdown",
   "id": "af81b95a",
   "metadata": {},
   "source": [
    "## Modules"
   ]
  },
  {
   "cell_type": "markdown",
   "id": "4bdf0674",
   "metadata": {},
   "source": [
    "We will see throughout this course that we **import** libraries (or modules) into our notebook to use. A module can be written by any user, as a .py file.\n",
    "\n",
    "The .py file can contain functions or classes that we can use in our program. For example, the random module, which we will see shortly."
   ]
  },
  {
   "cell_type": "code",
   "execution_count": null,
   "id": "45b7a351",
   "metadata": {},
   "outputs": [],
   "source": []
  },
  {
   "cell_type": "markdown",
   "id": "d012a989",
   "metadata": {},
   "source": [
    "Modules can be written by users as .py files, and imported into a notebook. Python searches the **path** for any .py files with a name that matches the import."
   ]
  },
  {
   "cell_type": "markdown",
   "id": "21cae86f",
   "metadata": {},
   "source": [
    "Several modules are built-in, like the random module and the math module. These can be imported and used easily. Other modules are external, and have to be installed separately for them to be used, which is beyond the scope of this course.\n",
    "\n",
    "However, these external modules may allow us to do a range of tasks, including game development, web development, machine learning, plotting graphs, etc. There are countless libraries to do these tasks, and they can be installed into your environment with a tool called **pip**.\n",
    "\n",
    "Coverage of third-party modules is not in the scope of this course (there are countless modules we could cover)! Although it is important to be aware that they exist, and is a good next step to look into after this course."
   ]
  },
  {
   "cell_type": "markdown",
   "id": "8b076ae1",
   "metadata": {},
   "source": [
    "# 2 - Operators <a name=\"operators\"></a>"
   ]
  },
  {
   "cell_type": "markdown",
   "id": "8dece372",
   "metadata": {},
   "source": [
    "We've seen how to perform assignment and how to print our variables. We can now manipulate our variables in different ways to perform computations, and this is often done through **operators**.\n",
    "\n",
    "> Consider the operation, 5 + 10. Here, 5 and 10 are the **operands**, and '+' is the **operator**. In this case it is the addition operator. Operators can do different things depending on the **types** of the operands, and we will see this later when we discuss different data types. However, for integers, these would work as you would expect."
   ]
  },
  {
   "cell_type": "markdown",
   "id": "13e8fd89",
   "metadata": {},
   "source": [
    "## Arithmetic Operators"
   ]
  },
  {
   "cell_type": "markdown",
   "id": "4467298b",
   "metadata": {},
   "source": [
    "These operators allow you to do common mathematical operations, such as addition, substraction, etc. The most common arithmetic operators are demonstrated below.\n",
    "\n",
    "Note here how we are obtaining the result of our operation (eg: a + b) and directly inserting that into the print statement. Alternatively, we may store the output of our operation in a new variable and print that instead."
   ]
  },
  {
   "cell_type": "code",
   "execution_count": null,
   "id": "2b0734a1",
   "metadata": {},
   "outputs": [],
   "source": []
  },
  {
   "cell_type": "markdown",
   "id": "acd5b23f",
   "metadata": {},
   "source": [
    "Now we can perform calculations. It is important to use parentheses in more complex operations to define the order of operations."
   ]
  },
  {
   "cell_type": "code",
   "execution_count": null,
   "id": "e0108a58",
   "metadata": {},
   "outputs": [],
   "source": []
  },
  {
   "cell_type": "markdown",
   "id": "f63c9e32",
   "metadata": {},
   "source": [
    "_Note on Operator Overloading_\n",
    "\n",
    "Operators like '+' behave differently depending on the **types** of the operands. Whilst the '+' operator adds two integers together, it will also concatenate strings together as we will see shortly. The mechanism that allows for this to occur is called **operator overloading**. The operator is essentially a different syntax for us to call a particular function on one of the operands, passing it the other operand as the argument.\n",
    "\n",
    "This behavior can be seen by adding two numbers in an alternative way, by calling the underlying add function. However this is not considered standard practice, and is shown here for interest to the reader only. It also shown that this operator could be mapped to a different function (such as concatenation, instead of adding) for operands of different types.\n",
    "\n",
    "We will discuss functions and operators in more detail, in subsequent sections."
   ]
  },
  {
   "cell_type": "code",
   "execution_count": null,
   "id": "9a65ead2",
   "metadata": {},
   "outputs": [],
   "source": []
  },
  {
   "cell_type": "markdown",
   "id": "baaa3778",
   "metadata": {},
   "source": [
    "## Comparison Operators"
   ]
  },
  {
   "cell_type": "markdown",
   "id": "92c9318f",
   "metadata": {},
   "source": [
    "Comparison operators will be very useful in subsequent sections when we create programs that can make decisions using certain criteria. These operators return a **boolean** output (true or false), which we will revisit in more detail."
   ]
  },
  {
   "cell_type": "code",
   "execution_count": null,
   "id": "474293a7",
   "metadata": {},
   "outputs": [],
   "source": []
  },
  {
   "cell_type": "markdown",
   "id": "47cc7cb0",
   "metadata": {},
   "source": [
    "## Logical Operators"
   ]
  },
  {
   "cell_type": "markdown",
   "id": "70b61c1f",
   "metadata": {},
   "source": [
    "Logical operators allow us to manipulate booleans and are commonly used in combination with the comparison operators seen previously.\n",
    "\n",
    "- The **AND** operator evaluates to true if and only if both operands evaluate to true.\n",
    "- The **OR** operator evalues to true if at least one of its operands are true.\n",
    "- The **NOT** operator simply flips the boolean operand, and takes only one operand."
   ]
  },
  {
   "cell_type": "code",
   "execution_count": null,
   "id": "c7b36ffc",
   "metadata": {},
   "outputs": [],
   "source": []
  },
  {
   "cell_type": "markdown",
   "id": "2702914e",
   "metadata": {},
   "source": [
    "Note here that the ampersand (&) and the pipe (|) operators can be used in place of the 'and' and 'or' keywords respectively."
   ]
  },
  {
   "cell_type": "markdown",
   "id": "5840d13f",
   "metadata": {},
   "source": [
    "# 3 - Numbers <a name=\"numbers\"></a>"
   ]
  },
  {
   "cell_type": "markdown",
   "id": "6dd1fb80",
   "metadata": {},
   "source": [
    "So far we have looked at performing operations using integers (whole numbers). However, there are other numerical **types** that we can use, as well as other non-numerical types including booleans which we have seen, and collections which we will cover shortly.\n",
    "\n",
    "These data types will be covered in detail in their own sections, however this section serves as an introduction to the concept of data types in Python, as well as other computations we can perform using numbers.\n",
    "\n",
    "> We can determine the type of an object by using the built-in type() function."
   ]
  },
  {
   "cell_type": "code",
   "execution_count": null,
   "id": "1dfad054",
   "metadata": {},
   "outputs": [],
   "source": []
  },
  {
   "cell_type": "markdown",
   "id": "83bc71b1",
   "metadata": {},
   "source": [
    "## Floats"
   ]
  },
  {
   "cell_type": "markdown",
   "id": "254d3d61",
   "metadata": {},
   "source": [
    "In addition to integers, Python supports other numerical types including: long, float, complex. Let's take a look at the **float** data type which alongside integer is a commonly used data type.\n",
    "\n",
    "When instantiating an object in Python, the interpreter automatically infers the type. Therefore, you do not have to declare the type when creating variables. Here, we can create a variable (without assignment) and observe its type using the type() method."
   ]
  },
  {
   "cell_type": "code",
   "execution_count": null,
   "id": "c64ce386",
   "metadata": {},
   "outputs": [],
   "source": []
  },
  {
   "cell_type": "markdown",
   "id": "82a0cdd5",
   "metadata": {},
   "source": [
    "Decimals or fractions can be represented using the float data type. Float here, refers to the fact that the decimal point can 'float' - that it can support a variable number of digits before and after the decimal point.\n",
    "\n",
    "The operations we performed on integers previously can also be performed on floating point numbers, and they typically work in the same way."
   ]
  },
  {
   "cell_type": "code",
   "execution_count": null,
   "id": "da820ab6",
   "metadata": {},
   "outputs": [],
   "source": []
  },
  {
   "cell_type": "markdown",
   "id": "a81bd846",
   "metadata": {},
   "source": [
    "NOTE: Floating point numbers are stored as decimals in memory and do not have infinite precision. Therefore, operations on floating point numbers can introduce **floating-point error**."
   ]
  },
  {
   "cell_type": "code",
   "execution_count": null,
   "id": "1cfbfbd2",
   "metadata": {},
   "outputs": [],
   "source": []
  },
  {
   "cell_type": "markdown",
   "id": "991e5608",
   "metadata": {},
   "source": [
    "Notice how the above does not return exactly 0. The specifics of this are not covered here, but it is important to be aware of this especially when using comparison operators."
   ]
  },
  {
   "cell_type": "code",
   "execution_count": null,
   "id": "80788bb8",
   "metadata": {},
   "outputs": [],
   "source": []
  },
  {
   "cell_type": "markdown",
   "id": "c2178299",
   "metadata": {},
   "source": [
    "Finally, integers can be converted to floating point numbers and vice-versa in the following way. However, be careful doing this in reverse. Note that integers hold only whole numbers, and so this will remove the decimal portion of any float that is passed."
   ]
  },
  {
   "cell_type": "code",
   "execution_count": null,
   "id": "2f4eb03a",
   "metadata": {},
   "outputs": [],
   "source": []
  },
  {
   "cell_type": "code",
   "execution_count": null,
   "id": "f55d824e",
   "metadata": {},
   "outputs": [],
   "source": []
  },
  {
   "cell_type": "markdown",
   "id": "ebc6bf01",
   "metadata": {},
   "source": [
    "## Mathematical Functions"
   ]
  },
  {
   "cell_type": "markdown",
   "id": "f82ad565",
   "metadata": {},
   "source": [
    "Python includes a number of built-in mathematical functions, some of which are part of the built-in math library. Whilst a selection of these are shown below, more are available. A good programmer is able to search documentation for functions that they require as and when they need them, even if they can't necessarily remember all of them.\n",
    "\n",
    "Here we also **import** a library."
   ]
  },
  {
   "cell_type": "code",
   "execution_count": null,
   "id": "73d80e17",
   "metadata": {},
   "outputs": [],
   "source": []
  },
  {
   "cell_type": "markdown",
   "id": "602bd26b",
   "metadata": {},
   "source": [
    "Finally, we may often want some random numbers. For example: we may want to create a game, we may want to do some statistical testing, or we may need some random numbers for security. There are some built-in functions to achieve this.\n",
    "\n",
    "This time, we must import the **random** library."
   ]
  },
  {
   "cell_type": "code",
   "execution_count": null,
   "id": "24ecc10c",
   "metadata": {},
   "outputs": [],
   "source": []
  },
  {
   "cell_type": "markdown",
   "id": "38d06ece",
   "metadata": {},
   "source": [
    "As a side-note on imports, we can also import libraries and name them to whatever we like. This is useful if the name of a library is particularly long and we want to shorten it."
   ]
  },
  {
   "cell_type": "code",
   "execution_count": null,
   "id": "6ad1dfe8",
   "metadata": {},
   "outputs": [],
   "source": []
  },
  {
   "cell_type": "markdown",
   "id": "0e0f035a",
   "metadata": {},
   "source": [
    "# 4 - Strings <a name=\"strings\"></a>"
   ]
  },
  {
   "cell_type": "markdown",
   "id": "4d353712",
   "metadata": {},
   "source": [
    "Another very commonly used data type in Python is the **string**. We may create variables that can hold words or sentences, and these may even contain numerical values.\n",
    "\n",
    "> Strings are defined by using either single (') or double (\") quotes. However, double quotes are preferred."
   ]
  },
  {
   "cell_type": "code",
   "execution_count": null,
   "id": "a32cda45",
   "metadata": {},
   "outputs": [],
   "source": []
  },
  {
   "cell_type": "code",
   "execution_count": null,
   "id": "a211b619",
   "metadata": {},
   "outputs": [],
   "source": []
  },
  {
   "cell_type": "markdown",
   "id": "07ee646c",
   "metadata": {},
   "source": [
    "Strings can also be manipulated using operators and other methods, many of which we will cover shortly. However as a quick introduction to strings, the addition operator used previously that adds numerical values together, also **concatenates** strings together."
   ]
  },
  {
   "cell_type": "code",
   "execution_count": null,
   "id": "988f05ef",
   "metadata": {},
   "outputs": [],
   "source": []
  },
  {
   "cell_type": "markdown",
   "id": "24198c3f",
   "metadata": {},
   "source": [
    "Note that the operands must be of the same type. If we are introducing numerical values, they must be converted to a string first in the following way."
   ]
  },
  {
   "cell_type": "code",
   "execution_count": null,
   "id": "7701a73f",
   "metadata": {},
   "outputs": [],
   "source": []
  },
  {
   "cell_type": "markdown",
   "id": "0a9b15d1",
   "metadata": {},
   "source": [
    "The **multiplication operator** can be used to repeat a string multiple times."
   ]
  },
  {
   "cell_type": "code",
   "execution_count": null,
   "id": "eec48ae6",
   "metadata": {},
   "outputs": [],
   "source": []
  },
  {
   "cell_type": "markdown",
   "id": "c3a27989",
   "metadata": {},
   "source": [
    "## Membership"
   ]
  },
  {
   "cell_type": "markdown",
   "id": "f0536276",
   "metadata": {},
   "source": [
    "One particular type of operator not discussed yet, is the **membership operator**. These will also be useful when we look at collections.\n",
    "\n",
    "Membership operators can test if one operand is a member of another. For example, if a number is in a list, or more appropriately for this section, if a string is inside another string."
   ]
  },
  {
   "cell_type": "code",
   "execution_count": null,
   "id": "e0327199",
   "metadata": {},
   "outputs": [],
   "source": []
  },
  {
   "cell_type": "markdown",
   "id": "f46982b6",
   "metadata": {},
   "source": [
    "## Slicing"
   ]
  },
  {
   "cell_type": "markdown",
   "id": "037941f6",
   "metadata": {},
   "source": [
    "Another operator that will be useful for collections as well as strings, is the **slice** operator. This operator allows us to take specific elements from a list, or select characters from a string.\n",
    "\n",
    "There are two of these types of operators:\n",
    "\n",
    "- Slice: [a]\n",
    "- Range Slice: [a:b]\n",
    "\n",
    "The regular slice operator allows us to select just one character from a string, whereas the range slice can allow us to extract multiple characters given a start and end point."
   ]
  },
  {
   "cell_type": "markdown",
   "id": "09277acf",
   "metadata": {},
   "source": [
    "_Indexing_\n",
    "\n",
    "> Python uses **zero-based indexing**. Meaning that the first element of a list, or the first character of a string, is the 'zeroth' element. The index is essentially the distance you have to travel from the first element to get to your chosen element."
   ]
  },
  {
   "cell_type": "code",
   "execution_count": null,
   "id": "48127d9e",
   "metadata": {},
   "outputs": [],
   "source": []
  },
  {
   "cell_type": "markdown",
   "id": "c05476a6",
   "metadata": {},
   "source": [
    "So now what if we wanted to extract an entire word from a string for example? We can do that using the range slice operator.\n",
    "\n",
    "With this operator:\n",
    "\n",
    "- The first value is the index of the element from which to start the slice (INCLUSIVE).\n",
    "- The second value is the index of the element at which to end the slice (EXCLUSIVE).\n",
    "\n",
    "This means that if we specify to slice up to the 10th index, the slice will go up to but excluding the 10th index. See the demonstration below."
   ]
  },
  {
   "cell_type": "code",
   "execution_count": null,
   "id": "fc8f79f8",
   "metadata": {},
   "outputs": [],
   "source": []
  },
  {
   "cell_type": "markdown",
   "id": "cf9b203f",
   "metadata": {},
   "source": [
    "Sometimes we want to slice all the way to the end of a string, or from the start of a string, which can be done by omitting the relevant index."
   ]
  },
  {
   "cell_type": "code",
   "execution_count": null,
   "id": "5967f81f",
   "metadata": {},
   "outputs": [],
   "source": []
  },
  {
   "cell_type": "markdown",
   "id": "73d17a27",
   "metadata": {},
   "source": [
    "Finally, we sometimes want to index from the end of the string, instead of the start. Python supports this by allowing for negative indices (however, these are not zero-based)."
   ]
  },
  {
   "cell_type": "code",
   "execution_count": null,
   "id": "9992eb31",
   "metadata": {},
   "outputs": [],
   "source": []
  },
  {
   "cell_type": "markdown",
   "id": "41c99359",
   "metadata": {},
   "source": [
    "## Formatting"
   ]
  },
  {
   "cell_type": "markdown",
   "id": "fa3d10fb",
   "metadata": {},
   "source": [
    "Sometimes we want to create a very long string, and **multi-line strings** are useful for this. They can be created using triple-quotes. Any new-line characters in the string are also rendered as new lines by the print function."
   ]
  },
  {
   "cell_type": "code",
   "execution_count": null,
   "id": "7d71abad",
   "metadata": {},
   "outputs": [],
   "source": []
  },
  {
   "cell_type": "markdown",
   "id": "2df43938",
   "metadata": {},
   "source": [
    "New lines can also be added in strings manually, using an **escape** character. There are a few, but the most common is the new-line character. Escape characters can be included in strings with a back-slash."
   ]
  },
  {
   "cell_type": "code",
   "execution_count": null,
   "id": "03980130",
   "metadata": {},
   "outputs": [],
   "source": []
  },
  {
   "cell_type": "markdown",
   "id": "3ff1bdbd",
   "metadata": {},
   "source": [
    "To create a string from multiple variables, we can use operands and type conversions as we have seen, to construct our string."
   ]
  },
  {
   "cell_type": "code",
   "execution_count": null,
   "id": "41a40842",
   "metadata": {},
   "outputs": [],
   "source": []
  },
  {
   "cell_type": "markdown",
   "id": "0901dfbc",
   "metadata": {},
   "source": [
    "This is cumbersome. Notice how we have had to do a type conversion, but also add spaces in between. Instead, we can use **f-strings**, which is a syntax that allows us to quickly concatenate strings. Other methods also exist (such as the .format() method).\n",
    "\n",
    "> To create an f-string, we create a string as normal but with the 'f' character at the start. We can then insert variables at any point in the string using braces {}, with the variable name inside. The above becomes the following. We can now more naturally insert variables into strings, and also not worry about type conversions."
   ]
  },
  {
   "cell_type": "code",
   "execution_count": null,
   "id": "087018c6",
   "metadata": {},
   "outputs": [],
   "source": []
  },
  {
   "cell_type": "markdown",
   "id": "2d0a76a6",
   "metadata": {},
   "source": [
    "## Methods"
   ]
  },
  {
   "cell_type": "markdown",
   "id": "c1e0b2c1",
   "metadata": {},
   "source": [
    "Many functions are available in Python to manipulate strings, and often these can be called directly from the string itself. This is a feature of **object-oriented programming**, where methods are associated with **objects**, such as strings.\n",
    "\n",
    "For example, here is a method that capitalises the first letter of a string. The method is called directly from the string object itself using dot-syntax."
   ]
  },
  {
   "cell_type": "code",
   "execution_count": null,
   "id": "45a8c76e",
   "metadata": {},
   "outputs": [],
   "source": []
  },
  {
   "cell_type": "markdown",
   "id": "255b86bc",
   "metadata": {},
   "source": [
    "Many string methods are available, and can be found with some quick research. Some examples of common string methods are shown below. \n",
    "\n",
    "These methods all **return** a new, modified string, and can therefore be assigned to a new variable or just printed directly. The existing string is not modified because strings in Python are **immutable**, like other objects including integers. Some Python objects like lists are **mutable**, which means they can be changed."
   ]
  },
  {
   "cell_type": "code",
   "execution_count": null,
   "id": "392c728a",
   "metadata": {},
   "outputs": [],
   "source": []
  },
  {
   "cell_type": "markdown",
   "id": "b6195d58",
   "metadata": {},
   "source": [
    "# 5 - Collections <a name=\"collections\"></a>"
   ]
  },
  {
   "cell_type": "markdown",
   "id": "2d8118ad",
   "metadata": {},
   "source": [
    "Python includes various data types that are **collections** of other objects. This functionality allows us to perform operations on entire collections of data as opposed to operating on individual numbers or strings. The following types are the built-in and most common collections, and are covered here:\n",
    "\n",
    "- Lists\n",
    "- Tuples\n",
    "- Sets\n",
    "- Dictionaries"
   ]
  },
  {
   "cell_type": "markdown",
   "id": "2b44fa21",
   "metadata": {},
   "source": [
    "## Lists"
   ]
  },
  {
   "cell_type": "markdown",
   "id": "5d18e59c",
   "metadata": {},
   "source": [
    "A **list** in Python is very versatile, and can store objects of different **types** within the same list. Therefore a list may contain a mixture of strings, integers, floats, or other objects (including user-defined objects!).\n",
    "\n",
    "Lists are also **mutable**. They can be changed after they have been defined.\n",
    "\n",
    "Instantiating a list is simple."
   ]
  },
  {
   "cell_type": "code",
   "execution_count": null,
   "id": "7adf4ff6",
   "metadata": {},
   "outputs": [],
   "source": []
  },
  {
   "cell_type": "markdown",
   "id": "5c8d5978",
   "metadata": {},
   "source": [
    "Accessing specific **elements** in a list, can be done using **slice** notation, as discussed before with strings."
   ]
  },
  {
   "cell_type": "code",
   "execution_count": null,
   "id": "523fabf5",
   "metadata": {},
   "outputs": [],
   "source": []
  },
  {
   "cell_type": "markdown",
   "id": "6deea580",
   "metadata": {},
   "source": [
    "We can also use slice notation to modify the corresponding values."
   ]
  },
  {
   "cell_type": "code",
   "execution_count": null,
   "id": "ff66e923",
   "metadata": {},
   "outputs": [],
   "source": []
  },
  {
   "cell_type": "markdown",
   "id": "ac8a55b5",
   "metadata": {},
   "source": [
    "Lists have various methods associated with them, like strings, and one of these is the append() method. This can be used to update a list, by adding an item to the end of a list.\n",
    "\n",
    "Note: Lists, as mentioned before, are **mutable**, and therefore changes can be made to the original object. The append() method makes such a change, modifying the original object. The append() method however does not **return** anything. Printing the output of this will print nothing. This method modifies the original list, but does not return that list."
   ]
  },
  {
   "cell_type": "code",
   "execution_count": null,
   "id": "b2a95760",
   "metadata": {},
   "outputs": [],
   "source": []
  },
  {
   "cell_type": "markdown",
   "id": "e1b6956c",
   "metadata": {},
   "source": [
    "Various operators are also **overloaded** to make working with lists easier. As with strings, lists can be concatenated with the **addition operator**. The **membership operator** can also be used to check if an object exists in the list."
   ]
  },
  {
   "cell_type": "code",
   "execution_count": null,
   "id": "bf4b976c",
   "metadata": {},
   "outputs": [],
   "source": []
  },
  {
   "cell_type": "markdown",
   "id": "f41fbf72",
   "metadata": {},
   "source": [
    "Finally, Python includes both built-in functions and list methods (called from the list object using dot-syntax), that are compatible with lists. Some common methods are as follows."
   ]
  },
  {
   "cell_type": "code",
   "execution_count": null,
   "id": "b0256fbf",
   "metadata": {},
   "outputs": [],
   "source": []
  },
  {
   "cell_type": "markdown",
   "id": "96ab6225",
   "metadata": {},
   "source": [
    "Lists are very useful for **iterating** over, which we will see in subsequent sections."
   ]
  },
  {
   "cell_type": "markdown",
   "id": "a4cc2dc5",
   "metadata": {},
   "source": [
    "## Tuples"
   ]
  },
  {
   "cell_type": "markdown",
   "id": "ab25ecca",
   "metadata": {},
   "source": [
    "Once we understand lists, tuples are very easy to understand. Tuples are sequences, like lists, except they are **immutable**, meaning they cannot be changed. Otherwise, tuples are very similar to lists and many of the same methods discussed in previous sections apply to tuples.\n",
    "\n",
    "Instantiating a tuple is as follows."
   ]
  },
  {
   "cell_type": "code",
   "execution_count": null,
   "id": "e2aac34d",
   "metadata": {},
   "outputs": [],
   "source": []
  },
  {
   "cell_type": "markdown",
   "id": "e25d178e",
   "metadata": {},
   "source": [
    "You may try the various operations we performed in the previous section and manipulate tuples in the same way. However, you will not be able to modify the original tuple. There is no append method, and you cannot change existing values using slice notation."
   ]
  },
  {
   "cell_type": "markdown",
   "id": "b2ab5425",
   "metadata": {},
   "source": [
    "If tuples are the same as lists except immutable, why would we use tuples? They are less commonly used, but below are some reasons for using tuples:\n",
    "\n",
    "- If you know your data is not going to change, tuples are **faster**. They have a fixed memory allocation and this brings with it efficiency advantages.\n",
    "- Tuples ensure that their contents are not accidentally changed within a program, which acts as a form of **protection**."
   ]
  },
  {
   "cell_type": "markdown",
   "id": "50dacb25",
   "metadata": {},
   "source": [
    "## Sets"
   ]
  },
  {
   "cell_type": "markdown",
   "id": "3765dd38",
   "metadata": {},
   "source": [
    "Sets share some similarities with lists, and they are **mutable**. However, they are **unordered**, and you cannot access individual elements of a set by using an index (but they are iterable - more on this later). They have the property that they must contain **unique** values.\n",
    "\n",
    "Sets are instantiated by using curly braces as follows."
   ]
  },
  {
   "cell_type": "code",
   "execution_count": null,
   "id": "77523833",
   "metadata": {},
   "outputs": [],
   "source": []
  },
  {
   "cell_type": "markdown",
   "id": "cfa8f865",
   "metadata": {},
   "source": [
    "Sets can be added to using the add() method. This modifies the original set and does not return anything."
   ]
  },
  {
   "cell_type": "code",
   "execution_count": null,
   "id": "ce93a6da",
   "metadata": {},
   "outputs": [],
   "source": []
  },
  {
   "cell_type": "markdown",
   "id": "e8f4a8a8",
   "metadata": {},
   "source": [
    "**Operators** can also be used on sets, and can be used to add sets together, preserving the unique values after combination. Sets have some unique operations that we can perform on them.\n",
    "\n",
    "Previously, we saw that the pipe operator (|) is used to perform an OR operation. However, for sets, this operator is **overloaded** to perform a **union** instead."
   ]
  },
  {
   "cell_type": "code",
   "execution_count": null,
   "id": "d58f2552",
   "metadata": {},
   "outputs": [],
   "source": []
  },
  {
   "cell_type": "markdown",
   "id": "3b7028d3",
   "metadata": {},
   "source": [
    "Once again, note that duplicates are dropped since sets can only have unique values.\n",
    "\n",
    "The subtraction operator can be used to remove elements in one set based on elements in another, and the **intersection** operator finds common elements."
   ]
  },
  {
   "cell_type": "code",
   "execution_count": null,
   "id": "bf4f708b",
   "metadata": {},
   "outputs": [],
   "source": []
  },
  {
   "cell_type": "markdown",
   "id": "745b86dd",
   "metadata": {},
   "source": [
    "The above operations can also be called using methods instead of the operators, which has some advantages in some cases but this is not covered here."
   ]
  },
  {
   "cell_type": "markdown",
   "id": "f85e6c4e",
   "metadata": {},
   "source": [
    "Note that collections of different types can be transformed into each other. This allows us to take lists, convert them to sets, perform set operations on them and convert the output back into a list, if needed."
   ]
  },
  {
   "cell_type": "code",
   "execution_count": null,
   "id": "81240295",
   "metadata": {},
   "outputs": [],
   "source": []
  },
  {
   "cell_type": "markdown",
   "id": "f71136b7",
   "metadata": {},
   "source": [
    "## Dictionaries"
   ]
  },
  {
   "cell_type": "markdown",
   "id": "5fa0523e",
   "metadata": {},
   "source": [
    "Dictionaries are unique, and allow us to store and access values using **keys** as opposed to indices, like with lists and tuples. Keys can be any immutable Python object, such as numbers or strings.\n",
    "\n",
    "Each **key** is separated from its corresponding **value** with a colon (:). Whilst values in a dictionary may be duplicated, keys must be **unique**. We cannot use the same key to refer to two different values, just like we can't refer to the same object using two different indices in a list."
   ]
  },
  {
   "cell_type": "code",
   "execution_count": null,
   "id": "cea33480",
   "metadata": {},
   "outputs": [],
   "source": []
  },
  {
   "cell_type": "markdown",
   "id": "f52f469b",
   "metadata": {},
   "source": [
    "Now, we can refer to these values using slice notation, except instead of passing integers to refer to the index, we pass a key."
   ]
  },
  {
   "cell_type": "code",
   "execution_count": null,
   "id": "3039705d",
   "metadata": {},
   "outputs": [],
   "source": []
  },
  {
   "cell_type": "markdown",
   "id": "ff2f8a0b",
   "metadata": {},
   "source": [
    "Adding to or modifying the dictionary is as follows."
   ]
  },
  {
   "cell_type": "code",
   "execution_count": null,
   "id": "94a655be",
   "metadata": {},
   "outputs": [],
   "source": []
  },
  {
   "cell_type": "markdown",
   "id": "9ebf5e3a",
   "metadata": {},
   "source": [
    "We can get the keys or values present in a dictionary with the following methods. These will be useful later for **iterating** over the dictionary."
   ]
  },
  {
   "cell_type": "code",
   "execution_count": null,
   "id": "13983a36",
   "metadata": {},
   "outputs": [],
   "source": []
  },
  {
   "cell_type": "markdown",
   "id": "497b4e6e",
   "metadata": {},
   "source": [
    "Observant viewers may notice that the return type of these methods are not of type **list**, and instead they are dictionary-specific types. They can easily be converted to a list using the list() function, however, it is often not necessary to do so as they are **list-like**. This means they can be iterated over like regular lists. However, they must be converted to regular lists in order to do list-specific operations, such as concatenation."
   ]
  },
  {
   "cell_type": "code",
   "execution_count": null,
   "id": "db52d528",
   "metadata": {},
   "outputs": [],
   "source": []
  },
  {
   "cell_type": "markdown",
   "id": "2b0f7355",
   "metadata": {},
   "source": [
    "# 6 - Decision Making <a name=\"decisionmaking\"></a>"
   ]
  },
  {
   "cell_type": "markdown",
   "id": "8b5570ba",
   "metadata": {},
   "source": [
    "We often want our programs to be able to \"make decisions\", and perform different actions based on different conditions.\n",
    "\n",
    ">IF **CONDITION**\n",
    ">\n",
    ">Do something.\n",
    ">\n",
    ">OTHERWISE\n",
    ">\n",
    ">Do something else.\n",
    "\n",
    "There is no limit to the number of different conditions we can create. We may wish to check if the speed of a vehicle is over a particular value, for example. If it is, we hopefully want to apply the brakes. If it is too slow, we may wish to accelerate.\n",
    "\n",
    "We have seen some of these conditions before, and the condition is provided as a **boolean** variable. This variable takes two values, **true** or **false**."
   ]
  },
  {
   "cell_type": "markdown",
   "id": "a7018cd3",
   "metadata": {},
   "source": [
    "As seen previously, we can use **comparison operators** to output a boolean value, which is helpful for providing a condition to our decision-maker."
   ]
  },
  {
   "cell_type": "code",
   "execution_count": null,
   "id": "42c4181c",
   "metadata": {},
   "outputs": [],
   "source": []
  },
  {
   "cell_type": "markdown",
   "id": "3046a839",
   "metadata": {},
   "source": [
    "We have also seen that we can combine our boolean conditions using **logical** operators, like **and** and **or**."
   ]
  },
  {
   "cell_type": "code",
   "execution_count": null,
   "id": "ecc92728",
   "metadata": {},
   "outputs": [],
   "source": []
  },
  {
   "cell_type": "markdown",
   "id": "d5857d17",
   "metadata": {},
   "source": [
    "Effectively, this is equivalent to doing the following. In the case of the 'and' operator, if both operands are true, the output is true."
   ]
  },
  {
   "cell_type": "code",
   "execution_count": null,
   "id": "73005825",
   "metadata": {},
   "outputs": [],
   "source": []
  },
  {
   "cell_type": "markdown",
   "id": "f2f5bf30",
   "metadata": {},
   "source": [
    "> We can use these conditions to make decisions, through a mechanism called the **if-statement**. The if-statement allows us to test conditions, and perform an action if that condition is true. Ultimately, this condition needs to be a single boolean value. However remember, we can combine boolean values using **and** and **or** operators, to be able to test multiple conditions."
   ]
  },
  {
   "cell_type": "code",
   "execution_count": null,
   "id": "6d30348a",
   "metadata": {},
   "outputs": [],
   "source": []
  },
  {
   "cell_type": "markdown",
   "id": "0378a0d8",
   "metadata": {},
   "source": [
    "We can also test multiple conditions in our if-statement."
   ]
  },
  {
   "cell_type": "code",
   "execution_count": null,
   "id": "7d7dd693",
   "metadata": {},
   "outputs": [],
   "source": []
  },
  {
   "cell_type": "markdown",
   "id": "6b36c145",
   "metadata": {},
   "source": [
    "As mentioned previously, we can combine booleans using comparison operators. In this example, we may wish to exclude emergency vehicles from obeying the speed limit.\n",
    "\n",
    "Notice now that even though the vehicle speed is greater than the speed limit, it does not brake because it does not satisfy both conditions in the if-statement. In this case, True and False evaluates to False."
   ]
  },
  {
   "cell_type": "code",
   "execution_count": null,
   "id": "5ab5a4db",
   "metadata": {},
   "outputs": [],
   "source": []
  },
  {
   "cell_type": "markdown",
   "id": "a75976d0",
   "metadata": {},
   "source": [
    "There is also nothing stopping the programmer from nesting if-statements...\n",
    "\n",
    "The code below is similar to the code in the prior block. The difference being that in this way, it is possible to get no output."
   ]
  },
  {
   "cell_type": "code",
   "execution_count": null,
   "id": "e4ab168f",
   "metadata": {},
   "outputs": [],
   "source": []
  },
  {
   "cell_type": "markdown",
   "id": "46a87543",
   "metadata": {},
   "source": [
    "> Now, the **condition** in an if-statement does not necessarily have to be a boolean. It can also be something that converts to a boolean. We can determine what a Python object will convert to by converting it ourselves manually.\n",
    "\n",
    "- Values that convert to true are known as \"**truthy**\".\n",
    "- Values that convert to false are known as \"**falsy**\"."
   ]
  },
  {
   "cell_type": "code",
   "execution_count": null,
   "id": "4af4b340",
   "metadata": {},
   "outputs": [],
   "source": []
  },
  {
   "cell_type": "markdown",
   "id": "2b1b0a04",
   "metadata": {},
   "source": [
    "These can be used as conditions in an if-statement, and testing if a list is empty with the following syntax is very common."
   ]
  },
  {
   "cell_type": "code",
   "execution_count": null,
   "id": "4eafca4c",
   "metadata": {},
   "outputs": [],
   "source": []
  },
  {
   "cell_type": "markdown",
   "id": "b62d6353",
   "metadata": {},
   "source": [
    "Whilst this syntax is used often, the developer can be more explicit if they prefer and check the length of the list, to see if that is equal to 0. That will return a boolean, which is then used as the condition."
   ]
  },
  {
   "cell_type": "markdown",
   "id": "70f1a752",
   "metadata": {},
   "source": [
    "# 7 - Loops <a name=\"loops\"></a>"
   ]
  },
  {
   "cell_type": "markdown",
   "id": "c74e1403",
   "metadata": {},
   "source": [
    "Sometimes, we want our code to execute multiple times. This could be to iterate through each item of a list for example, or to perform an action multiple times based off a condition. The two main types of loops in Python are as follows.\n",
    "\n",
    "- **For** loops: Used to iterate through a sequence.\n",
    "- **While** loops: Repeats code while a condition is true."
   ]
  },
  {
   "cell_type": "markdown",
   "id": "ae9a7851",
   "metadata": {},
   "source": [
    "## For Loops"
   ]
  },
  {
   "cell_type": "markdown",
   "id": "51730ec6",
   "metadata": {},
   "source": [
    "These loops are commonly used to iterate through an **iterable**, which include lists and tuples for example. But there are also other list-like objects that are also iterables.\n",
    "\n",
    "The loop begins by setting the target variable to the first element of the iterable. When the statements in the loop complete, the execution returns to the top, and the target variable is set to the second element, and so on.\n",
    "\n",
    "We can then do what we like with the target variable, inside the loop. For example, here we can print the elements of a list, one by one, without having to call the print statement four times manually."
   ]
  },
  {
   "cell_type": "code",
   "execution_count": null,
   "id": "aea50291",
   "metadata": {},
   "outputs": [],
   "source": []
  },
  {
   "cell_type": "markdown",
   "id": "c5d81fff",
   "metadata": {},
   "source": [
    "We can perform operations on large lists of numbers using loops. For example, here we will take a list of numbers, and simply square each element. We also want to store our results in an output list, as opposed to just printing the numbers, so we can use our knowledge of lists from before, to append these values to a brand new list."
   ]
  },
  {
   "cell_type": "code",
   "execution_count": null,
   "id": "d65ac18c",
   "metadata": {},
   "outputs": [],
   "source": []
  },
  {
   "cell_type": "markdown",
   "id": "d7ecfb32",
   "metadata": {},
   "source": [
    "> That's great, but what if we want an ordered list running from 1 to 10 like we had previously, except we wanted it to go from 1 to 100... or we wanted only every other number. This is where the **range** function is useful.\n",
    "\n",
    "The range function generates range objects for us, which are Python iterables. We simply need to provide a **start**, **length**, and **step-size**."
   ]
  },
  {
   "cell_type": "code",
   "execution_count": null,
   "id": "754c9709",
   "metadata": {},
   "outputs": [],
   "source": []
  },
  {
   "cell_type": "markdown",
   "id": "342a1fdd",
   "metadata": {},
   "source": [
    "If we provide just one value, instead it will create a range from 0 with a step-size of 1, with the length equal to the provided value, by default."
   ]
  },
  {
   "cell_type": "code",
   "execution_count": null,
   "id": "5d8cf586",
   "metadata": {},
   "outputs": [],
   "source": []
  },
  {
   "cell_type": "markdown",
   "id": "0fa33a7a",
   "metadata": {},
   "source": [
    "We can convert these to lists. However, we don't often need to do this because we can insert the range iterable into the for-loop directly."
   ]
  },
  {
   "cell_type": "code",
   "execution_count": null,
   "id": "db570953",
   "metadata": {},
   "outputs": [],
   "source": []
  },
  {
   "cell_type": "markdown",
   "id": "99b5c504",
   "metadata": {},
   "source": [
    "And with a step size of two."
   ]
  },
  {
   "cell_type": "code",
   "execution_count": null,
   "id": "cf413074",
   "metadata": {},
   "outputs": [],
   "source": []
  },
  {
   "cell_type": "markdown",
   "id": "c3918b3b",
   "metadata": {},
   "source": [
    "Let's use this range object directly in a for-loop."
   ]
  },
  {
   "cell_type": "code",
   "execution_count": null,
   "id": "e282e2c8",
   "metadata": {},
   "outputs": [],
   "source": []
  },
  {
   "cell_type": "markdown",
   "id": "a7233edf",
   "metadata": {},
   "source": [
    "Note that if we want to loop through a list, we do not have to iterate through it directly. Instead, we may set up a range and just index items from the list. In this case, we will want to produce a range equal to the length of the list. This gives us the indices of all the items in that list, as follows."
   ]
  },
  {
   "cell_type": "code",
   "execution_count": null,
   "id": "67afe13e",
   "metadata": {},
   "outputs": [],
   "source": []
  },
  {
   "cell_type": "markdown",
   "id": "5c3d36d0",
   "metadata": {},
   "source": [
    "We can iterate through a for-loop using this range and referencing each item from the list using **slice** operators. In fact, now that we are using the index, we can do more interesting manipulations, like referencing the item before or after in the list. \n",
    "\n",
    "Let's see an example, where we index both the current item in the list and the previous item. We can then concatenate these to produce some rather interesting creatures."
   ]
  },
  {
   "cell_type": "code",
   "execution_count": null,
   "id": "8e539438",
   "metadata": {},
   "outputs": [],
   "source": []
  },
  {
   "cell_type": "markdown",
   "id": "47a9579a",
   "metadata": {},
   "source": [
    "Note that on the very first iteration, the index was 0, which references turtle. The index before is -1, which actually points to the end of the list, the walrus. In languages where negative-indexing is not supported, this would normally throw an error. To combat this, you can modify the range to start at 1 instead of 0, or you can catch the **exception**, which we will see shortly."
   ]
  },
  {
   "cell_type": "markdown",
   "id": "4a30261a",
   "metadata": {},
   "source": [
    "## Loop Control Statements"
   ]
  },
  {
   "cell_type": "markdown",
   "id": "99869e47",
   "metadata": {},
   "source": [
    "Sometimes, we want to interrupt the execution of a loop.\n",
    "\n",
    "Two loop control statements that we will discuss here are:\n",
    "\n",
    "- **Break**: Terminates the loop and transfers execution to the statement immediately after the loop.\n",
    "- **Continue**: Terminates the current iteration of the loop, and transfers execution to the top of the loop for the next iteration."
   ]
  },
  {
   "cell_type": "markdown",
   "id": "370edb85",
   "metadata": {},
   "source": [
    "Consider the previous example, and assume for a moment that we do not like elephants for some reason. :(\n",
    "\n",
    "Maybe when the variable is an elephant, we want to skip that iteration. Note firstly that the **if-statement** that we learned about previously, can be used inside a loop without issue. Let's see how we might do this using the **continue** statement."
   ]
  },
  {
   "cell_type": "code",
   "execution_count": null,
   "id": "10a6643e",
   "metadata": {},
   "outputs": [],
   "source": []
  },
  {
   "cell_type": "markdown",
   "id": "39f9e1f3",
   "metadata": {},
   "source": [
    "So far so good, and we have looped through the list and printed out each element, with a string formatting thrown in too. Now let's make sure we omit elephants from our loop using the continue statement."
   ]
  },
  {
   "cell_type": "code",
   "execution_count": null,
   "id": "2ab02ce6",
   "metadata": {},
   "outputs": [],
   "source": []
  },
  {
   "cell_type": "markdown",
   "id": "4175c69d",
   "metadata": {},
   "source": [
    "Now the **break** statement ends the loop statement altogether, without continuing for any iterations after our break. This can be seen if we simply swap the continue statement, for a break statement."
   ]
  },
  {
   "cell_type": "code",
   "execution_count": null,
   "id": "72ee1863",
   "metadata": {},
   "outputs": [],
   "source": []
  },
  {
   "cell_type": "markdown",
   "id": "2d6dc92f",
   "metadata": {},
   "source": [
    "Break statements are particularly useful when you are trying to find an item in a list for example. Once found, you don't need to continue searching the rest of the list right?"
   ]
  },
  {
   "cell_type": "markdown",
   "id": "ca218100",
   "metadata": {},
   "source": [
    "## While Loops"
   ]
  },
  {
   "cell_type": "markdown",
   "id": "dddf0c43",
   "metadata": {},
   "source": [
    "While loops continue looping while a condition is true. As soon as the condition becomes false, iterations stop and the statement immediately following the loop is executed. \n",
    "\n",
    "In the same way that the if-statement takes a condition, the while-loop also takes a condition (and can therefore effectively take multiple conditions through the use of **comparison operators**).\n",
    "\n",
    "Here's a simple example of a counter that stops once a maximum value is reached."
   ]
  },
  {
   "cell_type": "code",
   "execution_count": null,
   "id": "fe2cd7af",
   "metadata": {},
   "outputs": [],
   "source": []
  },
  {
   "cell_type": "markdown",
   "id": "abb7fa0e",
   "metadata": {},
   "source": [
    "Now is a good time to introduce another operator, and it is effectively shorthand syntax for doing the following operation:\n",
    "\n",
    "> i = i + 1\n",
    "\n",
    "This is a common operation in loops, and you can alternatively write this as follows."
   ]
  },
  {
   "cell_type": "code",
   "execution_count": null,
   "id": "f32edcba",
   "metadata": {},
   "outputs": [],
   "source": []
  },
  {
   "cell_type": "markdown",
   "id": "077851aa",
   "metadata": {},
   "source": [
    "Or, to decrement."
   ]
  },
  {
   "cell_type": "code",
   "execution_count": null,
   "id": "abf85a59",
   "metadata": {},
   "outputs": [],
   "source": []
  },
  {
   "cell_type": "markdown",
   "id": "064484f9",
   "metadata": {},
   "source": [
    "To get real fancy for a second, we can even use this shorthand in other interesting scenarios."
   ]
  },
  {
   "cell_type": "code",
   "execution_count": null,
   "id": "b6cc86be",
   "metadata": {},
   "outputs": [],
   "source": []
  },
  {
   "cell_type": "markdown",
   "id": "8b30f278",
   "metadata": {},
   "source": [
    "Let's use this shorthand in an example."
   ]
  },
  {
   "cell_type": "code",
   "execution_count": null,
   "id": "fc8a18e1",
   "metadata": {},
   "outputs": [],
   "source": []
  },
  {
   "cell_type": "markdown",
   "id": "a6cbb03d",
   "metadata": {},
   "source": [
    "Now notice that it is not printed here that the car reached a speed of 30. This is because the speed is incremented at the end of the loop, after the print statement. Therefore once it becomes 30, it is no longer less than the maximum speed and so the print statement does not execute.\n",
    "\n",
    "We can put the print statement at the end of the loop to ensure the final speed is reported in the loop, but this also means the first speed (of 0) is not printed, since the increment happens before the print."
   ]
  },
  {
   "cell_type": "code",
   "execution_count": null,
   "id": "80ef07fd",
   "metadata": {},
   "outputs": [],
   "source": []
  },
  {
   "cell_type": "markdown",
   "id": "0c560345",
   "metadata": {},
   "source": [
    "However in both cases, the behavior of the car is the same. It accelerates from 0 to 30, and this can be verified by printing the value before and after the loop."
   ]
  },
  {
   "cell_type": "markdown",
   "id": "52a937d6",
   "metadata": {},
   "source": [
    "# 8 - Functions <a name=\"functions\"></a>"
   ]
  },
  {
   "cell_type": "markdown",
   "id": "67d57852",
   "metadata": {},
   "source": [
    "## Definitions"
   ]
  },
  {
   "cell_type": "markdown",
   "id": "a34e9732",
   "metadata": {},
   "source": [
    "**Functions** are found everywhere in Python, and you have used many of them up to this point already, including print(), max() and len(). Functions provide modularity to your program, and make sure that code is reusable.\n",
    "\n",
    "Functions are typically supposed to have a single and clearly defined purpose. Functions take **arguments**, which are the parameters passed into the function. Functions can also **return** an object. For example, the max() function takes a list as an argument, and returns the maximum value from that list."
   ]
  },
  {
   "cell_type": "markdown",
   "id": "f68b8abc",
   "metadata": {},
   "source": [
    "To define our own function:\n",
    "- Create a function block with the **def** keyword. \n",
    "- Name our function, define what parameters our function expects.\n",
    "- Add an optional doc-string, which helps others understand our function.\n",
    "- Write code in the function body.\n",
    "- Finally, we can choose to return a value."
   ]
  },
  {
   "cell_type": "code",
   "execution_count": null,
   "id": "816d7c43",
   "metadata": {},
   "outputs": [],
   "source": []
  },
  {
   "cell_type": "markdown",
   "id": "a70105b0",
   "metadata": {},
   "source": [
    "Now we have defined a function that simply adds two numbers together. In practice, this operation wouldn't need a function since it's pretty easy to just add them together using the addition operator.\n",
    "\n",
    "Although the function is defined, we have not executed it. We can do so by calling the function, which involves opening parenthesis and passing any required arguments.\n",
    "\n",
    "Calling the function without the necessary arguments, will yield an error."
   ]
  },
  {
   "cell_type": "code",
   "execution_count": null,
   "id": "97f71a28",
   "metadata": {},
   "outputs": [],
   "source": []
  },
  {
   "cell_type": "markdown",
   "id": "94966f8c",
   "metadata": {},
   "source": [
    "> Notice that we have also added a string at the very start of our function code. This is the **docstring**, and appears when another user calls help() on our function, as shown below."
   ]
  },
  {
   "cell_type": "code",
   "execution_count": null,
   "id": "88da03e1",
   "metadata": {},
   "outputs": [],
   "source": []
  },
  {
   "cell_type": "markdown",
   "id": "bff6fb97",
   "metadata": {},
   "source": [
    "NOTE: There is a significant difference between say, _add_ and _add()_. The former is just a reference to the function, and can be passed around like any other object. The latter is a call to a function (with no input arguments). Essentially, the call to add() will replace that bit of code with the return value of that function.\n",
    "\n",
    "In the above case, we are passing the add function to the help() method. Whereas executing help(add()) will call the add function, and pass the output of that to help().\n",
    "\n",
    "Of course in this case, calling add() will yield an error anyway, since the arguments aren't specified."
   ]
  },
  {
   "cell_type": "markdown",
   "id": "8c321125",
   "metadata": {},
   "source": [
    "## Arguments"
   ]
  },
  {
   "cell_type": "markdown",
   "id": "7e8ec256",
   "metadata": {},
   "source": [
    "Function arguments can be provided in two ways:\n",
    "\n",
    "- By **position**: Ensuring that the arguments are provided in the proper order.\n",
    "- By **keyword**: Ensuring that the arguments are provided to the proper variable name.\n",
    "\n",
    "Previously, we were calling our add() function with position arguments. We can run the exact same code by providing the arguments using keywords instead."
   ]
  },
  {
   "cell_type": "code",
   "execution_count": null,
   "id": "2149e0b2",
   "metadata": {},
   "outputs": [],
   "source": []
  },
  {
   "cell_type": "markdown",
   "id": "f41b23a4",
   "metadata": {},
   "source": [
    "Note that the x and y keywords come from the function definition itself. This means we may also provide the arguments in any order we wish."
   ]
  },
  {
   "cell_type": "markdown",
   "id": "bf07acff",
   "metadata": {},
   "source": [
    "> We can also make arguments **optional**, by providing them with a default value in the function definition. Let's define a new function which now has a default argument."
   ]
  },
  {
   "cell_type": "code",
   "execution_count": null,
   "id": "4c632698",
   "metadata": {},
   "outputs": [],
   "source": []
  },
  {
   "cell_type": "markdown",
   "id": "61f4ebf2",
   "metadata": {},
   "source": [
    "Here, we have used the syntax to specify that y is equal to 5, by default. Now if we call the function with only one of the arguments (either positionally or using the keyword), the other value will be taken to be 5."
   ]
  },
  {
   "cell_type": "code",
   "execution_count": null,
   "id": "2977a823",
   "metadata": {},
   "outputs": [],
   "source": []
  },
  {
   "cell_type": "markdown",
   "id": "9c17b555",
   "metadata": {},
   "source": [
    "## Return"
   ]
  },
  {
   "cell_type": "markdown",
   "id": "a8123685",
   "metadata": {},
   "source": [
    "We have seen so far that the function has returned a value, however it does not need to. The print() function does not return a value, it only prints something to the console. Functions that do not explicitly return a value, return **None**."
   ]
  },
  {
   "cell_type": "code",
   "execution_count": null,
   "id": "6d91acf4",
   "metadata": {},
   "outputs": [],
   "source": []
  },
  {
   "cell_type": "code",
   "execution_count": null,
   "id": "8a80c184",
   "metadata": {},
   "outputs": [],
   "source": []
  },
  {
   "cell_type": "markdown",
   "id": "18107ab0",
   "metadata": {},
   "source": [
    "Whilst the print function has the special ability to print things to the Python console, it does not return anything. It does not produce a value that can be stored in a variable. You can test this with the following. Notice how the output is None."
   ]
  },
  {
   "cell_type": "code",
   "execution_count": null,
   "id": "f0efa5af",
   "metadata": {},
   "outputs": [],
   "source": []
  },
  {
   "cell_type": "markdown",
   "id": "2cc10850",
   "metadata": {},
   "source": [
    "Functions can return lists, sets, tuples, or any Python object (including other functions... spooky).\n",
    "\n",
    "It is common to see functions that return multiple values as follows. These are returned as tuples. One feature of tuples is that they can be **unpacked** using the assignment operator, giving us separate variables."
   ]
  },
  {
   "cell_type": "code",
   "execution_count": null,
   "id": "fd963bbd",
   "metadata": {},
   "outputs": [],
   "source": []
  },
  {
   "cell_type": "code",
   "execution_count": null,
   "id": "59213d9b",
   "metadata": {},
   "outputs": [],
   "source": []
  },
  {
   "cell_type": "markdown",
   "id": "6c5680ad",
   "metadata": {},
   "source": [
    "## Pass by Object Reference"
   ]
  },
  {
   "cell_type": "markdown",
   "id": "895cea1d",
   "metadata": {},
   "source": [
    "Programming languages tend to typically be either **pass-by-reference** or **pass-by-value**.\n",
    "\n",
    "- Pass-by-reference: The references to objects in memory are passed to functions and they only **refer** to the underlying object. Therefore, changes to that underlying object via the reference, will change the object outside the function.\n",
    "- Pass-by-value: The value is copied and there is a new object created at a different memory address on your computer. Changing your object in the function will not change the object outside the scope of the function.\n",
    "\n",
    "Whilst this is an interesting concept to learn, Python does neither of these. Python instead passes by **object-reference**, and the details are beyond the scope of this course. However what it means, is that **mutable** objects, such as lists, when changed inside the function, will change outside the function.\n",
    "\n",
    "**Immutable** objects like integers or tuples will not be changed."
   ]
  },
  {
   "cell_type": "code",
   "execution_count": null,
   "id": "012f8c07",
   "metadata": {},
   "outputs": [],
   "source": []
  },
  {
   "cell_type": "markdown",
   "id": "5ec2b4f8",
   "metadata": {},
   "source": [
    "It is important to notice that this change has happened, even though we haven't reassigned my_list anywhere. We have not taken a newly returned list from the function. It has modified the existing list in memory, using the object-reference that is passed to the function."
   ]
  },
  {
   "cell_type": "code",
   "execution_count": null,
   "id": "083f57ec",
   "metadata": {},
   "outputs": [],
   "source": []
  },
  {
   "cell_type": "markdown",
   "id": "348a3952",
   "metadata": {},
   "source": [
    "However here, integers are immutable. They cannot be changed, and therefore the underlying object is also not changed. The number that is being incremented in the function is a copy, and as it is not returned, it is discarded."
   ]
  },
  {
   "cell_type": "markdown",
   "id": "aeddd256",
   "metadata": {},
   "source": [
    "To conclude, our functions can become much more complicated than what has been demonstrated here. It is up to the programmer to decide which blocks of code to break down into functions. Consider if it makes sense to do so:\n",
    "\n",
    "- Would the function have a clear purpose?\n",
    "- Would the function be reused elsewhere?\n",
    "- Does the function do something useful that is easier than a native solution? (Let's not start making functions to add numbers together...)\n",
    "\n",
    "Take a look at this rock-paper-scissors function below. It uses a lot of what we have learned so far."
   ]
  },
  {
   "cell_type": "code",
   "execution_count": null,
   "id": "9f59b65c",
   "metadata": {},
   "outputs": [],
   "source": []
  },
  {
   "cell_type": "code",
   "execution_count": null,
   "id": "4bb63722",
   "metadata": {},
   "outputs": [],
   "source": []
  },
  {
   "cell_type": "markdown",
   "id": "fabf9883",
   "metadata": {},
   "source": [
    "# 9 - Exceptions <a name=\"exceptions\"></a>"
   ]
  },
  {
   "cell_type": "markdown",
   "id": "76101a43",
   "metadata": {},
   "source": [
    "**Exceptions** in Python (short for exceptional events) occur when there is a logical flaw or error in a piece of code that runs. There are many kinds of exceptions, and developers can even define their own types of exceptions."
   ]
  },
  {
   "cell_type": "markdown",
   "id": "19da68c2",
   "metadata": {},
   "source": [
    "One type of exception is when you attempt to divide by 0, for example. This produces a ZeroDivisionError exception."
   ]
  },
  {
   "cell_type": "code",
   "execution_count": null,
   "id": "0f6c8244",
   "metadata": {},
   "outputs": [],
   "source": []
  },
  {
   "cell_type": "markdown",
   "id": "eabecf41",
   "metadata": {},
   "source": [
    "Another example of an exception is when you try to index a list, and the index is out of bounds. This produces an IndexError exception."
   ]
  },
  {
   "cell_type": "code",
   "execution_count": null,
   "id": "91962bcf",
   "metadata": {},
   "outputs": [],
   "source": []
  },
  {
   "cell_type": "markdown",
   "id": "d578328a",
   "metadata": {},
   "source": [
    "Exceptions interrupt your program and ensure that any remaining code is not executed. However sometimes, you don't want to interrupt the execution of a program.\n",
    "\n",
    "Take the function below, which takes a list of numbers and returns their reciprocals."
   ]
  },
  {
   "cell_type": "code",
   "execution_count": null,
   "id": "37b42abd",
   "metadata": {},
   "outputs": [],
   "source": []
  },
  {
   "cell_type": "code",
   "execution_count": null,
   "id": "70165cb5",
   "metadata": {},
   "outputs": [],
   "source": []
  },
  {
   "cell_type": "markdown",
   "id": "4449ab9d",
   "metadata": {},
   "source": [
    "But now say we pass a 0 in that list somewhere."
   ]
  },
  {
   "cell_type": "code",
   "execution_count": null,
   "id": "1a677404",
   "metadata": {},
   "outputs": [],
   "source": []
  },
  {
   "cell_type": "markdown",
   "id": "e779f6d2",
   "metadata": {},
   "source": [
    "This has interrupted our program and not returned an output. Imagine you have spent time crafting a complicated data engineering pipeline for some Machine Learning work. You head home for the evening and leave it running overnight, and one of the rows has some corrupted data which raises an exception in your program. That would be pretty upsetting.\n",
    "\n",
    "So let's **catch** the exception, using a **try-except** block. Then we can handle it, however we please. A suitable way might be to add None to the list, for example."
   ]
  },
  {
   "cell_type": "code",
   "execution_count": null,
   "id": "a02c1aaf",
   "metadata": {},
   "outputs": [],
   "source": []
  },
  {
   "cell_type": "code",
   "execution_count": null,
   "id": "2985c571",
   "metadata": {},
   "outputs": [],
   "source": []
  },
  {
   "cell_type": "markdown",
   "id": "af316622",
   "metadata": {},
   "source": [
    "Notice now how our program exection was not interrupted, and the exceptional event was handled appropriately.\n",
    "\n",
    "First, the interpreter will execute commands in the **try** block. If it succeeds, the program proceeds as normal. However, if an exception occurs in the try block and it is also in the **except** statement, the code in the except block will run."
   ]
  },
  {
   "cell_type": "markdown",
   "id": "f71c39ab",
   "metadata": {},
   "source": [
    "Now, you may also except without providing a specific exception, as follows."
   ]
  },
  {
   "cell_type": "code",
   "execution_count": null,
   "id": "f9aed510",
   "metadata": {},
   "outputs": [],
   "source": []
  },
  {
   "cell_type": "markdown",
   "id": "255728e1",
   "metadata": {},
   "source": [
    "However, this is considered **bad practice**. The programmer should specify the exceptions to be caught, so that if a different exception occurs by chance, it is handled appropriately.\n",
    "\n",
    "Note that multiple exceptions can also be provided in the except statement, allowing you to catch multiple exceptions.\n",
    "\n",
    "An alternative way to handle the above case is to use an if-statement to check if the value is 0 or not. Indeed a lot of the functionality made available with try-except statements can be replicated using an if-statement."
   ]
  },
  {
   "cell_type": "markdown",
   "id": "e7e127e6",
   "metadata": {},
   "source": [
    "## Finally"
   ]
  },
  {
   "cell_type": "markdown",
   "id": "3544b680",
   "metadata": {},
   "source": [
    "Finally... no, not the end of the course just yet. Try-catch blocks can also include a **finally** block. This code executes at the end, always. Whether an exception is thrown or not."
   ]
  },
  {
   "cell_type": "code",
   "execution_count": null,
   "id": "e39f075d",
   "metadata": {},
   "outputs": [],
   "source": []
  },
  {
   "cell_type": "markdown",
   "id": "52666620",
   "metadata": {},
   "source": [
    "## Raise"
   ]
  },
  {
   "cell_type": "markdown",
   "id": "8627cab0",
   "metadata": {},
   "source": [
    "Sometimes we want to **raise** an exception manually. Maybe we validate a user's inputs and find that they are not valid. Throwing an exception then allows the caller of that function to handle that exception in whichever way they choose. Users can define their own exceptions, but that is not covered here.\n",
    "\n",
    "Here is an example of throwing a generic exception."
   ]
  },
  {
   "cell_type": "code",
   "execution_count": null,
   "id": "b5936730",
   "metadata": {},
   "outputs": [],
   "source": []
  },
  {
   "cell_type": "markdown",
   "id": "153ad6d7",
   "metadata": {},
   "source": [
    "# 10 - The End <a name=\"theend\"></a>"
   ]
  },
  {
   "cell_type": "markdown",
   "id": "a924e160",
   "metadata": {},
   "source": [
    "This has been a course to help you master the basics of Python, and if you are a complete beginner, give you a gentle introduction to programming in general.\n",
    "\n",
    "There are more advanced aspects of Python to cover, such as **object-oriented programming** for example. However, you now have a good footing to help you understand the basic structure of most Python code. We have also helped develop that logical thinking process in your mind, and the importance of writing clean and readable code, which is what makes a great programmer.\n",
    "\n",
    "External libraries are an interesting place to look at next, because with these, we can do some cool tasks like machine learning, or data visualisation. We can make graphical user interfaces or games. Even using these libraries, what you will have learned throughout this course will be very valuable to you going forwards.\n",
    "\n",
    "I hope you have had as much fun learning from this as I did writing it!\n",
    "\n",
    "\\- Sohail"
   ]
  }
 ],
 "metadata": {
  "kernelspec": {
   "display_name": "Python 3",
   "language": "python",
   "name": "python3"
  },
  "language_info": {
   "codemirror_mode": {
    "name": "ipython",
    "version": 3
   },
   "file_extension": ".py",
   "mimetype": "text/x-python",
   "name": "python",
   "nbconvert_exporter": "python",
   "pygments_lexer": "ipython3",
   "version": "3.9.5"
  }
 },
 "nbformat": 4,
 "nbformat_minor": 5
}
