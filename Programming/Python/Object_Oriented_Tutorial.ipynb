{
 "cells": [
  {
   "cell_type": "markdown",
   "id": "a2e8be5b-1988-404d-b689-a51165a775d3",
   "metadata": {},
   "source": [
    "# A Lovely Introduction to Object-Oriented Programming in Python"
   ]
  },
  {
   "cell_type": "markdown",
   "id": "8bfaef73-26f4-4107-b67b-dd6f48186025",
   "metadata": {},
   "source": [
    "## 1 - Object and Classes"
   ]
  },
  {
   "cell_type": "markdown",
   "id": "d2c4fc51-df2a-49d2-8097-2ec661a60edf",
   "metadata": {},
   "source": [
    "If we want to represent simple items in Python like a name, or a cost for example, it is fairly trivial to do this using primitive types like floats, strings, etc.\n",
    "\n",
    "However, what if we want to represent something more complex? Like an item of fast food?\n",
    "\n",
    "Let's pretend we are creating an ordering system in a restaurant and we need to represent the different food items and various properties including:\n",
    "\n",
    "- Name.\n",
    "- Calories.\n",
    "- Cost.\n",
    "- On the saver menu or not.\n",
    "\n",
    "One option is to use a list:"
   ]
  },
  {
   "cell_type": "code",
   "execution_count": 1,
   "id": "bed9f404-bc6e-4f9f-b05c-41cce74a29d1",
   "metadata": {},
   "outputs": [],
   "source": [
    "nugget = [\"nugget\", 100, 0.79, False]\n",
    "cheeseburger = [\"cheeseburger\", 500, 0.99, True]"
   ]
  },
  {
   "cell_type": "markdown",
   "id": "d0fe53a1-1d81-4661-9eef-9e6a20c6b802",
   "metadata": {},
   "source": [
    "However, this is cumbersome and prone to error. We can instead create a class that encapsulates this information. The class acts as a blueprint to create objects.\n",
    "\n",
    "We can define object-level properties using the initialisation function, and class-level properties outside of it, as follows."
   ]
  },
  {
   "cell_type": "code",
   "execution_count": 5,
   "id": "d04a9d99-86cf-4579-bfe1-92e989ea23d0",
   "metadata": {},
   "outputs": [],
   "source": [
    "class Food:\n",
    "    \n",
    "    restaurant = \"mcdonalds\"\n",
    "    \n",
    "    def __init__(self, name, calories, price, saver_menu):\n",
    "        self.name = name\n",
    "        self.calories = calories\n",
    "        self.price = price\n",
    "        self.saver_menu = saver_menu"
   ]
  },
  {
   "cell_type": "markdown",
   "id": "49638632-c817-43ef-9fc5-bf159b6bb6bc",
   "metadata": {},
   "source": [
    "We can now use this class as a \"blueprint\". We can instantiate an object as follows, providing everything that is required by the initialisation function."
   ]
  },
  {
   "cell_type": "code",
   "execution_count": 7,
   "id": "b8fb24c0-d1fd-4c81-8dbe-4499b000ac13",
   "metadata": {},
   "outputs": [],
   "source": [
    "cheeseburger = Food(\"cheeseburger\", 500, 0.99, True)"
   ]
  },
  {
   "cell_type": "markdown",
   "id": "732d902e-9558-46b2-862f-a36334505dae",
   "metadata": {},
   "source": [
    "Now, not only can we access the various properties of our cheeseburger, we can also access class-level attributes which are also set, like the name of the restaurant we defined in the class earlier."
   ]
  },
  {
   "cell_type": "code",
   "execution_count": 20,
   "id": "d5543322-dfe6-46ff-9665-beceacaf504b",
   "metadata": {},
   "outputs": [
    {
     "data": {
      "text/plain": [
       "500"
      ]
     },
     "execution_count": 20,
     "metadata": {},
     "output_type": "execute_result"
    }
   ],
   "source": [
    "cheeseburger.calories"
   ]
  },
  {
   "cell_type": "code",
   "execution_count": 11,
   "id": "060cf9c6-2ee8-4a58-a663-8c05941e6e8f",
   "metadata": {},
   "outputs": [
    {
     "data": {
      "text/plain": [
       "'mcdonalds'"
      ]
     },
     "execution_count": 11,
     "metadata": {},
     "output_type": "execute_result"
    }
   ],
   "source": [
    "cheeseburger.restaurant"
   ]
  },
  {
   "cell_type": "markdown",
   "id": "f742df2e-24d0-41ee-be6a-f7e7e23a794a",
   "metadata": {},
   "source": [
    "As another example, we can define a Dog class where we can create dogs. Here we demonstrate that we can also create methods associated with the class. These can then be executed directly from the object."
   ]
  },
  {
   "cell_type": "code",
   "execution_count": 14,
   "id": "c1308bd2-88ce-4d4b-b963-08caea8a10ff",
   "metadata": {},
   "outputs": [],
   "source": [
    "class Dog:\n",
    "    \n",
    "    def __init__(self, name, age):\n",
    "        self.name = name\n",
    "        self.age = age\n",
    "    \n",
    "    def description(self):\n",
    "        print(f\"{self.name} is {self.age} years old.\")\n",
    "    \n",
    "    def noise(self):\n",
    "        print(\"Woof.\")"
   ]
  },
  {
   "cell_type": "code",
   "execution_count": 15,
   "id": "88c783c2-6e7a-4156-8a57-f016fa62978d",
   "metadata": {},
   "outputs": [],
   "source": [
    "my_dog = Dog(\"Bruce\", 10)"
   ]
  },
  {
   "cell_type": "markdown",
   "id": "1f58948a-7e1c-49a2-9840-7948ff444ffa",
   "metadata": {},
   "source": [
    "The two ways below of executing the \"description\" method are effectively equivalent in this case. However the latter is more commonly used because it allows for methods to be accessed using the object only, without referring to the class at all."
   ]
  },
  {
   "cell_type": "code",
   "execution_count": 17,
   "id": "3b998789-bd55-4220-a0c3-8c78ed0c8195",
   "metadata": {},
   "outputs": [
    {
     "name": "stdout",
     "output_type": "stream",
     "text": [
      "Bruce is 10 years old.\n"
     ]
    }
   ],
   "source": [
    "Dog.description(my_dog)"
   ]
  },
  {
   "cell_type": "code",
   "execution_count": 18,
   "id": "f1a65b26-b263-4125-8755-7aa611b361d7",
   "metadata": {},
   "outputs": [
    {
     "name": "stdout",
     "output_type": "stream",
     "text": [
      "Bruce is 10 years old.\n"
     ]
    }
   ],
   "source": [
    "my_dog.description()"
   ]
  },
  {
   "cell_type": "markdown",
   "id": "8d0ccc38-96a4-4482-aaa3-8c3ecaa9626c",
   "metadata": {},
   "source": [
    "Our dog can also woof!"
   ]
  },
  {
   "cell_type": "code",
   "execution_count": 19,
   "id": "cf8e6634-2753-4c40-95b6-505d074f1692",
   "metadata": {},
   "outputs": [
    {
     "name": "stdout",
     "output_type": "stream",
     "text": [
      "Woof.\n"
     ]
    }
   ],
   "source": [
    "my_dog.noise()"
   ]
  },
  {
   "cell_type": "markdown",
   "id": "08cf8375-e09a-402b-9752-7dd935a79f0d",
   "metadata": {},
   "source": [
    "## 2 - Inheritance"
   ]
  },
  {
   "cell_type": "markdown",
   "id": "2fd60b03-f585-4073-99a5-4c863db0edd6",
   "metadata": {},
   "source": [
    "Let's define a class one layer above our Dog, which is the Animal class. As before we can instantiate an object of type Animal and execute its methods."
   ]
  },
  {
   "cell_type": "code",
   "execution_count": 30,
   "id": "25a8d5ff-e24c-45c6-a826-80917cb8a5c6",
   "metadata": {},
   "outputs": [],
   "source": [
    "class Animal:\n",
    "    \n",
    "    def __init__(self, name, age):\n",
    "        self.name = name\n",
    "        self.age = age\n",
    "    \n",
    "    def description(self):\n",
    "        print(f\"{self.name} is {self.age} years old.\")\n",
    "        \n",
    "    def noise(self):\n",
    "        print(\"Generic animal noise.\")"
   ]
  },
  {
   "cell_type": "code",
   "execution_count": 31,
   "id": "6c553bbf-cc0e-471b-92bc-e309034b6454",
   "metadata": {},
   "outputs": [],
   "source": [
    "my_animal = Animal(\"John\", 50)"
   ]
  },
  {
   "cell_type": "code",
   "execution_count": 32,
   "id": "c971fd57-3a42-41c5-b233-657b0dfccfac",
   "metadata": {},
   "outputs": [
    {
     "name": "stdout",
     "output_type": "stream",
     "text": [
      "Generic animal noise.\n"
     ]
    }
   ],
   "source": [
    "my_animal.noise()"
   ]
  },
  {
   "cell_type": "markdown",
   "id": "009b9601-33c8-45c7-b173-5200139246f6",
   "metadata": {},
   "source": [
    "We can use the following syntax to define a Cat and Dog class that both inherit from Animal. Here, not only can we define extra methods (like walk()), but also we override the noise() method in both cases. We do not want our cat and dog to make generic animal noises, and therefore we override the noise() method to do something more specific to our use case."
   ]
  },
  {
   "cell_type": "code",
   "execution_count": 45,
   "id": "34f7ad3d-c5ac-4588-aa4b-b81b607dc7c8",
   "metadata": {},
   "outputs": [],
   "source": [
    "class Dog(Animal):\n",
    "    \n",
    "    def noise(self):\n",
    "        print(\"Woof.\")\n",
    "    \n",
    "    def walk(self):\n",
    "        print(f\"{self.name} is going for a walk.\")\n",
    "        \n",
    "class Cat(Animal):\n",
    "    \n",
    "    def noise(self):\n",
    "        print(\"Meow.\")"
   ]
  },
  {
   "cell_type": "code",
   "execution_count": 46,
   "id": "07c5bfe3-0d12-466e-9e4f-81e0c7191d6b",
   "metadata": {},
   "outputs": [],
   "source": [
    "my_dog = Dog(\"John\", 50)"
   ]
  },
  {
   "cell_type": "code",
   "execution_count": 47,
   "id": "14959973-780b-42ac-984b-a4cd6b2d2682",
   "metadata": {},
   "outputs": [
    {
     "name": "stdout",
     "output_type": "stream",
     "text": [
      "Woof.\n"
     ]
    }
   ],
   "source": [
    "my_dog.noise()"
   ]
  },
  {
   "cell_type": "code",
   "execution_count": 48,
   "id": "b46ff580-cc37-4fa4-af7a-92f09259cede",
   "metadata": {},
   "outputs": [
    {
     "name": "stdout",
     "output_type": "stream",
     "text": [
      "Meow.\n"
     ]
    }
   ],
   "source": [
    "my_cat = Cat(\"Bob\", 10)\n",
    "my_cat.noise()"
   ]
  },
  {
   "cell_type": "code",
   "execution_count": 49,
   "id": "5d7dbdeb-493b-470c-83e8-fbffd527acdb",
   "metadata": {},
   "outputs": [
    {
     "name": "stdout",
     "output_type": "stream",
     "text": [
      "John is going for a walk.\n"
     ]
    }
   ],
   "source": [
    "my_dog.walk()"
   ]
  },
  {
   "cell_type": "markdown",
   "id": "5d3e7030-8cfc-4fad-b408-87ad16904476",
   "metadata": {},
   "source": [
    "## 3 - Abstraction"
   ]
  },
  {
   "cell_type": "markdown",
   "id": "ecf7b0c5-12b6-4905-a343-953115025228",
   "metadata": {},
   "source": [
    "Sometimes we do not wish for people to be able to instantiate higher-level classes. For example in a video-game, do we really want the user to be able to create an Animal? Or would we rather them only be able to instantiate Cat and Dog objects?\n",
    "\n",
    "We start by inheriting ABC (Abstract Base Class) which ensures that a class with abstract properties and methods cannot be instantiated. Here we define one abstract method, noise()."
   ]
  },
  {
   "cell_type": "code",
   "execution_count": 53,
   "id": "df37e36d-00e5-43c9-b863-985cab928981",
   "metadata": {},
   "outputs": [],
   "source": [
    "from abc import ABC, abstractmethod"
   ]
  },
  {
   "cell_type": "code",
   "execution_count": 65,
   "id": "b8204613-77dd-4031-99e0-fbd1bf8a0f40",
   "metadata": {},
   "outputs": [],
   "source": [
    "class Animal(ABC):\n",
    "    \n",
    "    def __init__(self, name, age):\n",
    "        self.name = name\n",
    "        self.age = age\n",
    "    \n",
    "    def description(self):\n",
    "        print(f\"{self.name} is {self.age} years old.\")\n",
    "        \n",
    "    @abstractmethod\n",
    "    def noise(self):\n",
    "        raise NotImplementedError\n",
    "\n",
    "class Dog(Animal):\n",
    "    \n",
    "    def noise(self):\n",
    "        print(\"Woof.\")\n",
    "    \n",
    "    def walk(self):\n",
    "        print(f\"{self.name} is going for a walk.\")"
   ]
  },
  {
   "cell_type": "markdown",
   "id": "bc2128f8-f2f9-4e8d-a20e-0848a91361d1",
   "metadata": {},
   "source": [
    "In our Dog class, we have overridden the noise() method so it is no longer abstract. Therefore, the Dog class can be instantiated successfully."
   ]
  },
  {
   "cell_type": "code",
   "execution_count": 66,
   "id": "0f359537-b3e2-47d4-b092-f9ea28fd73e7",
   "metadata": {},
   "outputs": [],
   "source": [
    "my_dog = Dog(\"Eva\", 5)"
   ]
  },
  {
   "cell_type": "code",
   "execution_count": 67,
   "id": "5cc895f4-5060-442e-b21f-52e95568c6ff",
   "metadata": {},
   "outputs": [
    {
     "name": "stdout",
     "output_type": "stream",
     "text": [
      "Woof.\n"
     ]
    }
   ],
   "source": [
    "my_dog.noise()"
   ]
  }
 ],
 "metadata": {
  "kernelspec": {
   "display_name": "Python 3 (ipykernel)",
   "language": "python",
   "name": "python3"
  },
  "language_info": {
   "codemirror_mode": {
    "name": "ipython",
    "version": 3
   },
   "file_extension": ".py",
   "mimetype": "text/x-python",
   "name": "python",
   "nbconvert_exporter": "python",
   "pygments_lexer": "ipython3",
   "version": "3.9.7"
  }
 },
 "nbformat": 4,
 "nbformat_minor": 5
}
